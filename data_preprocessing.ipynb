{
 "cells": [
  {
   "cell_type": "code",
   "id": "initial_id",
   "metadata": {
    "collapsed": true,
    "ExecuteTime": {
     "end_time": "2024-10-14T10:01:57.801031Z",
     "start_time": "2024-10-14T10:01:56.389435Z"
    }
   },
   "source": [
    "import pandas as pd\n",
    "from pathlib import Path"
   ],
   "outputs": [],
   "execution_count": 1
  },
  {
   "metadata": {
    "ExecuteTime": {
     "end_time": "2024-10-14T10:02:16.268061Z",
     "start_time": "2024-10-14T10:02:16.263809Z"
    }
   },
   "cell_type": "code",
   "source": [
    "fd = Path('data/raw')\n",
    "fd"
   ],
   "id": "c788ccd35980f50",
   "outputs": [
    {
     "data": {
      "text/plain": [
       "WindowsPath('data')"
      ]
     },
     "execution_count": 2,
     "metadata": {},
     "output_type": "execute_result"
    }
   ],
   "execution_count": 2
  },
  {
   "metadata": {
    "ExecuteTime": {
     "end_time": "2024-10-14T10:07:51.502676Z",
     "start_time": "2024-10-14T10:07:51.073264Z"
    }
   },
   "cell_type": "code",
   "source": [
    "davis = pd.read_csv(fd / 'Davis_preprocessed_data.csv')\n",
    "kiba = pd.read_csv(fd / 'Kiba_preprocessed_data.csv')"
   ],
   "id": "d957ead254715a6e",
   "outputs": [],
   "execution_count": 4
  },
  {
   "metadata": {
    "ExecuteTime": {
     "end_time": "2024-10-14T10:09:38.657190Z",
     "start_time": "2024-10-14T10:09:38.644009Z"
    }
   },
   "cell_type": "code",
   "source": [
    "davis_ids = {'Drug': davis['Drug_ID'].unique(), 'Target': davis['Target_ID'].unique()}\n",
    "kiba_ids = {'Drug': kiba['Drug_ID'].unique(), 'Target': kiba['Target_ID'].unique()}\n",
    "davis_ids, kiba_ids"
   ],
   "id": "e68cb1730c4e36a2",
   "outputs": [
    {
     "data": {
      "text/plain": [
       "({'Drug': array([11314340, 24889392, 11409972, 11338033, 10184653,  5287969,\n",
       "          6450551, 11364421,  9926054, 16007391,  5328940, 11234052,\n",
       "         11656518,  6918454,   156414,  9933475, 11626560,  3062316,\n",
       "           156422, 44150621,   176167,   176870, 42642645, 11717001,\n",
       "         16725726, 11617559,   123631,     5291,  4908365, 11427553,\n",
       "           208908,   126565, 11485656,  9929127, 11712649, 10074640,\n",
       "         51004351, 11667893,  9915743,   644241,   447077, 10461815,\n",
       "          9884685, 24180719, 25243800, 10113978, 17755052, 11984591,\n",
       "           153999, 25127112,   176155, 24779724,  3025986, 10138260,\n",
       "         10127622,   216239,    44259,  5329102, 16038120, 10427712,\n",
       "         16722836,  3038522,  9926791,  5494449,  3038525,  3081361,\n",
       "          9809715,   151194]),\n",
       "  'Target': array(['AAK1', 'ABL1p', 'ABL2', 'ACVR1', 'ACVR2A', 'ADCK3', 'ADCK4',\n",
       "         'AKT1', 'AKT2', 'AKT3', 'AMPK-alpha1', 'AMPK-alpha2', 'ANKK1',\n",
       "         'ASK1', 'ASK2', 'AURKB', 'AURKC', 'BLK', 'BMPR1A', 'BMPR1B',\n",
       "         'BMPR2', 'BRSK1', 'BRSK2', 'CAMK1D', 'CAMK2A', 'CAMK2B', 'CAMK2G',\n",
       "         'CAMK4', 'CAMKK1', 'CASK', 'CDC2L2', 'CDC2L5', 'CDK11', 'CDK2',\n",
       "         'CDK5', 'CDK8', 'CDK9', 'CDKL2', 'CDKL3', 'CDKL5', 'CHEK1',\n",
       "         'CHEK2', 'CIT', 'CLK1', 'CLK2', 'CLK3', 'CLK4', 'CSF1R', 'CSNK1A1',\n",
       "         'CSNK1A1L', 'CSNK1D', 'CSNK1E', 'CSNK1G1', 'CSNK1G3', 'CSNK2A2',\n",
       "         'CTK', 'DAPK1', 'DAPK2', 'DAPK3', 'DCAMKL2', 'DDR1', 'DDR2', 'DLK',\n",
       "         'DMPK', 'DMPK2', 'DRAK2', 'DYRK1A', 'DYRK1B', 'DYRK2', 'EIF2AK1',\n",
       "         'EPHA1', 'EPHA5', 'EPHA7', 'EPHB1', 'EPHB2', 'EPHB3', 'EPHB4',\n",
       "         'EPHB6', 'ERBB2', 'ERBB3', 'ERBB4', 'ERK1', 'ERK2', 'ERK3', 'ERK4',\n",
       "         'ERK5', 'ERN1', 'FER', 'FES', 'FGFR1', 'FLT1', 'FLT4', 'FRK',\n",
       "         'GRK1', 'GRK4', 'GRK7', 'GSK3B', 'HCK', 'HIPK2', 'HIPK3', 'HIPK4',\n",
       "         'ICK', 'IGF1R', 'IKK-beta', 'IKK-epsilon', 'INSR', 'INSRR',\n",
       "         'IRAK1', 'IRAK4', 'ITK', 'JNK1', 'JNK2', 'JNK3', 'LATS1', 'LIMK1',\n",
       "         'LKB1', 'LOK', 'LTK', 'LZK', 'MAK', 'MAP3K1', 'MAP3K15', 'MAP3K3',\n",
       "         'MAP3K4', 'MAP4K3', 'MAP4K4', 'MAP4K5', 'MAPKAPK2', 'MAPKAPK5',\n",
       "         'MARK1', 'MARK2', 'MARK3', 'MARK4', 'MAST1', 'MEK2', 'MEK4',\n",
       "         'MEK5', 'MERTK', 'MINK', 'MKK7', 'MKNK1', 'MKNK2', 'MLCK', 'MLK2',\n",
       "         'MRCKB', 'MST1', 'MST1R', 'MST2', 'MST3', 'MTOR', 'MUSK', 'MYO3A',\n",
       "         'NDR1', 'NDR2', 'NEK1', 'NEK11', 'NEK2', 'NEK4', 'NEK5', 'NEK6',\n",
       "         'NEK7', 'NEK9', 'NIM1', 'NLK', 'OSR1', 'p38-alpha', 'p38-beta',\n",
       "         'p38-delta', 'PAK2', 'PAK4', 'PAK7', 'PDGFRA', 'PDGFRB', 'PDPK1',\n",
       "         'PFTK1', 'PHKG2', 'PIK3C2G', 'PIK3CB', 'PIK3CG', 'PIK4CB', 'PIM1',\n",
       "         'PIM2', 'PIM3', 'PIP5K2B', 'PKAC-alpha', 'PKMYT1', 'PLK1', 'PLK2',\n",
       "         'PLK4', 'PRKCE', 'PRKCH', 'PRKCI', 'PRKCQ', 'PRKD3', 'PRKG1',\n",
       "         'PRKG2', 'PRKR', 'PRKX', 'PRP4', 'PYK2', 'QSK', 'RAF1', 'RIOK2',\n",
       "         'RIOK3', 'RIPK1', 'RIPK2', 'RIPK4', 'ROCK1', 'ROCK2', 'S6K1',\n",
       "         'SBK1', 'SgK110', 'SGK3', 'SLK', 'SNARK', 'SRC', 'SRMS', 'SRPK1',\n",
       "         'SRPK2', 'SRPK3', 'STK16', 'STK33', 'STK36', 'STK39', 'TAK1',\n",
       "         'TAOK1', 'TBK1', 'TEC', 'TIE1', 'TIE2', 'TLK2', 'TNK1', 'TNNI3K',\n",
       "         'TRKA', 'TRKB', 'TRKC', 'TRPM6', 'TXK', 'ULK1', 'ULK3', 'VRK2',\n",
       "         'WEE2', 'YANK2', 'YES', 'YSK1', 'ZAK', 'ZAP70', 'ACVRL1', 'ALK',\n",
       "         'ARK5', 'AURKA', 'AXL', 'BIKE', 'BRK', 'BTK', 'CAMK1', 'CAMK2D',\n",
       "         'CDK4-cyclinD3', 'CDKL1', 'CSK', 'CSNK1G2', 'CSNK2A1', 'DCAMKL1',\n",
       "         'DCAMKL3', 'DRAK1', 'EPHA3', 'EPHA4', 'ERK8', 'FAK', 'FGFR2',\n",
       "         'FGFR4', 'FGR', 'HIPK1', 'HPK1', 'IKK-alpha', 'LATS2', 'MAP3K2',\n",
       "         'MAP4K2', 'MEK1', 'MEK6', 'MELK', 'MLK3', 'MRCKA', 'MST4', 'MYLK2',\n",
       "         'MYO3B', 'NEK3', 'p38-gamma', 'PAK1', 'PCTK1', 'PCTK3', 'PFTAIRE2',\n",
       "         'PIK3CD', 'PIP5K1A', 'PIP5K1C', 'PIP5K2C', 'PKN1', 'PKN2', 'PLK3',\n",
       "         'PRKD1', 'PRKD2', 'ROS1', 'SIK2', 'SNRK', 'STK35', 'SYK', 'TAOK2',\n",
       "         'TESK1', 'TGFBR1', 'TLK1', 'TNIK', 'TNK2', 'TTK', 'VEGFR2',\n",
       "         'YANK1', 'YSK4', 'ACVR1B', 'ACVR2B', 'BMX', 'CAMK1G', 'CAMKK2',\n",
       "         'CDC2L1', 'EPHA2', 'EPHA6', 'EPHA8', 'FYN', 'GAK', 'GSK3A',\n",
       "         'IRAK3', 'LCK', 'LYN', 'MEK3', 'MLK1', 'MYLK', 'PAK3', 'PAK6',\n",
       "         'PCTK2', 'PHKG1', 'PIK3C2B', 'PRKCD', 'RIOK1', 'RIPK5', 'SIK',\n",
       "         'TGFBR2', 'TSSK1B', 'ULK2', 'WEE1', 'CDK3', 'CDK7', 'HUNK',\n",
       "         'LIMK2', 'MYLK4', 'PKAC-beta', 'TAOK3', 'TYRO3', 'YANK3'],\n",
       "        dtype=object)},\n",
       " {'Drug': array(['CHEMBL1087421', 'CHEMBL1088633', 'CHEMBL1090360', ...,\n",
       "         'CHEMBL408982', 'CHEMBL307152', 'CHEMBL230654'], dtype=object),\n",
       "  'Target': array(['O14920', 'P04626', 'P06239', 'P15056', 'P24941', 'P28482',\n",
       "         'P45984', 'P53350', 'Q13464', 'Q16539', 'Q16584', 'O00141',\n",
       "         'O15111', 'P00533', 'P07333', 'P45983', 'P49841', 'P53779',\n",
       "         'O00311', 'O14757', 'O15264', 'O15530', 'O43293', 'O75116',\n",
       "         'O75582', 'O94806', 'O95819', 'O96013', 'O96017', 'P05129',\n",
       "         'P06213', 'P06241', 'P06493', 'P07332', 'P07949', 'P08069',\n",
       "         'P08922', 'P10721', 'P11309', 'P11362', 'P12931', 'P15735',\n",
       "         'P17612', 'P24723', 'P27448', 'P29317', 'P29597', 'P31751',\n",
       "         'P35916', 'P35968', 'P41743', 'P42679', 'P42685', 'P43405',\n",
       "         'P48729', 'P48730', 'P49137', 'P49760', 'P49840', 'P51451',\n",
       "         'P51617', 'P51812', 'P51955', 'P51957', 'P68400', 'P78368',\n",
       "         'Q00535', 'Q05513', 'Q05655', 'Q06418', 'Q12851', 'Q13131',\n",
       "         'Q13554', 'Q13555', 'Q13557', 'Q13627', 'Q13976', 'Q14680',\n",
       "         'Q16288', 'Q7KZI7', 'Q7L7X3', 'Q8IW41', 'Q8TDC3', 'Q96KB5',\n",
       "         'Q9H3Y6', 'Q9H4B4', 'Q9HAZ1', 'Q9NR20', 'Q9NYL2', 'Q9P1W9',\n",
       "         'Q9UEE5', 'Q9UM73', 'Q9Y243', 'Q9Y4K4', 'P23443', 'P31749',\n",
       "         'P42336', 'P52333', 'Q96GD4', 'O14965', 'P00519', 'P04049',\n",
       "         'P05771', 'P07947', 'P08631', 'P16591', 'P22455', 'P27361',\n",
       "         'P29323', 'P36888', 'P43403', 'P51813', 'P52564', 'Q02763',\n",
       "         'Q04759', 'Q04912', 'Q05397', 'Q08881', 'Q15303', 'Q16513',\n",
       "         'Q16566', 'Q8IU85', 'Q9NWZ3', 'Q9UHD2', 'Q02750', 'O60285',\n",
       "         'O60674', 'O75676', 'P04629', 'P08581', 'P21802', 'P22607',\n",
       "         'P34947', 'P42684', 'P50750', 'P53778', 'P80192', 'Q06187',\n",
       "         'Q13177', 'Q13882', 'Q14289', 'Q15078', 'Q15118', 'Q15418',\n",
       "         'Q16620', 'Q16644', 'Q8N4C8', 'Q96PF2', 'Q96RG2', 'Q99683',\n",
       "         'Q12866', 'Q14164', 'P19784', 'P67870', 'O43741', 'P22612',\n",
       "         'P22694', 'P54619', 'P54646', 'Q15759', 'Q9UGI9', 'Q9Y478',\n",
       "         'Q9UGJ0', 'O00418', 'O00444', 'O43781', 'P07948', 'P17948',\n",
       "         'P30530', 'P53667', 'Q07912', 'Q13153', 'Q13188', 'Q14012',\n",
       "         'Q9H2G2', 'Q9H2X6', 'Q9HCP0', 'Q9Y6M4', 'O15075', 'Q5VT25',\n",
       "         'Q8NE63', 'Q9BZL6', 'Q9HBH9', 'Q9UBS0', 'P51817', 'Q13237',\n",
       "         'Q96SB4', 'Q9BXA7', 'Q86V86', 'Q9BWU1', 'P17252', 'P41240',\n",
       "         'P11802', 'Q00534', 'O00329', 'P09619', 'P42338', 'P48736',\n",
       "         'Q02156', 'Q9UBE8', 'P16234', 'P29376', 'P36507', 'Q04771',\n",
       "         'Q9UQM7', 'Q9Y463', 'P50613', 'Q15139', 'Q9P289', 'P41279',\n",
       "         'P49336', 'Q96L34', 'Q96RR4', 'Q9H0K1', 'P30291', 'Q5S007',\n",
       "         'P49674', 'Q9HC98', 'P23458', 'Q02779', 'P42345', 'Q9BUB5',\n",
       "         'P49759', 'P54760', 'P09769', 'Q9UBF8', 'Q16512'], dtype=object)})"
      ]
     },
     "execution_count": 6,
     "metadata": {},
     "output_type": "execute_result"
    }
   ],
   "execution_count": 6
  },
  {
   "metadata": {
    "ExecuteTime": {
     "end_time": "2024-10-14T10:10:13.217275Z",
     "start_time": "2024-10-14T10:10:13.214254Z"
    }
   },
   "cell_type": "code",
   "source": "total_ids = {'DAVIS': davis_ids, 'KIBA': kiba_ids}",
   "id": "5b54d43dd6c4a15a",
   "outputs": [],
   "execution_count": 7
  },
  {
   "metadata": {
    "ExecuteTime": {
     "end_time": "2024-10-14T10:31:11.752904Z",
     "start_time": "2024-10-14T10:31:10.200332Z"
    }
   },
   "cell_type": "code",
   "source": [
    "ofd = Path('data/preprocessed')\n",
    "ofd.mkdir(exist_ok=True, parents=True)\n",
    "for dt in ['DAVIS', 'KIBA']:\n",
    "    ids = total_ids[dt]\n",
    "    \n",
    "    for mt in ['random', 'cold_split']:\n",
    "        if mt == 'random':\n",
    "            samples = 0\n",
    "            for st in ['train', 'valid', 'test']:\n",
    "                file = pd.read_csv(fd / dt / mt / f\"{st}.csv\")\n",
    "                search = file[(file['Drug_ID'].isin(ids['Drug'])) & (file['Target_ID'].isin(ids['Target']))].reset_index(drop=True)\n",
    "                o_path = ofd / dt / mt\n",
    "                \n",
    "                samples += len(search)\n",
    "                \n",
    "                # o_path.mkdir(exist_ok=True, parents=True)\n",
    "                # search.to_csv(o_path / f\"{st}.csv\", index=False, header=True)\n",
    "            print(f'{o_path}: {samples} samples')\n",
    "            \n",
    "        if mt == 'cold_split':\n",
    "            for d in ['Drug', 'Drug_and_Target', 'Target']:\n",
    "                samples = 0\n",
    "                for st in ['train', 'valid', 'test']:\n",
    "                    file = pd.read_csv(fd / dt / mt / d / f\"{st}.csv\")\n",
    "                    search = file[(file['Drug_ID'].isin(ids['Drug'])) & (file['Target_ID'].isin(ids['Target']))].reset_index(drop=True)\n",
    "                    o_path = ofd / dt / mt / d\n",
    "\n",
    "                    samples += len(search)\n",
    "\n",
    "                    # o_path.mkdir(exist_ok=True, parents=True)\n",
    "                    # search.to_csv(o_path / f\"{st}.csv\", index=False, header=True)\n",
    "                print(f'{o_path}: {samples} samples')\n",
    "print('done')"
   ],
   "id": "e16074dcfa7acf21",
   "outputs": [
    {
     "name": "stdout",
     "output_type": "stream",
     "text": [
      "data\\preprocessed\\DAVIS\\random: 24208 samples\n",
      "data\\preprocessed\\DAVIS\\cold_split\\Drug: 24208 samples\n",
      "data\\preprocessed\\DAVIS\\cold_split\\Drug_and_Target: 12949 samples\n",
      "data\\preprocessed\\DAVIS\\cold_split\\Target: 24208 samples\n",
      "data\\preprocessed\\KIBA\\random: 116784 samples\n",
      "data\\preprocessed\\KIBA\\cold_split\\Drug: 116784 samples\n",
      "data\\preprocessed\\KIBA\\cold_split\\Drug_and_Target: 63335 samples\n",
      "data\\preprocessed\\KIBA\\cold_split\\Target: 116784 samples\n",
      "done\n"
     ]
    }
   ],
   "execution_count": 26
  },
  {
   "metadata": {},
   "cell_type": "code",
   "outputs": [],
   "execution_count": null,
   "source": "",
   "id": "4f1e151d73f0293c"
  }
 ],
 "metadata": {
  "kernelspec": {
   "display_name": "Python 3",
   "language": "python",
   "name": "python3"
  },
  "language_info": {
   "codemirror_mode": {
    "name": "ipython",
    "version": 2
   },
   "file_extension": ".py",
   "mimetype": "text/x-python",
   "name": "python",
   "nbconvert_exporter": "python",
   "pygments_lexer": "ipython2",
   "version": "2.7.6"
  }
 },
 "nbformat": 4,
 "nbformat_minor": 5
}
